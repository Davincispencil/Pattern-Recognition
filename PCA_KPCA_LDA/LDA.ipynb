{
 "cells": [
  {
   "cell_type": "code",
   "execution_count": 4,
   "metadata": {},
   "outputs": [],
   "source": [
    "from sklearn import datasets\n",
    "import numpy as np"
   ]
  },
  {
   "cell_type": "code",
   "execution_count": 5,
   "metadata": {},
   "outputs": [
    {
     "name": "stdout",
     "output_type": "stream",
     "text": [
      "dataset shape: (150, 4)\n",
      "labels shape: (150,)\n"
     ]
    }
   ],
   "source": [
    "iris = datasets.load_iris()\n",
    "dataset = iris.data\n",
    "print('dataset shape:',dataset.shape)\n",
    "labels = iris.target\n",
    "print('labels shape:',labels.shape)"
   ]
  },
  {
   "cell_type": "code",
   "execution_count": 8,
   "metadata": {},
   "outputs": [],
   "source": [
    "class LDA():\n",
    "    def __init__(self,k,m):\n",
    "        if m > k-1:\n",
    "            print('Error! m must smaller than k! ')\n",
    "        \n",
    "        self.n_class = k;\n",
    "        self.m = m\n",
    "        \n",
    "        \n",
    "    def VarianceInClass(self,dataset,labels):\n",
    "        [length,width] = dataset.shape\n",
    "        self.length = length\n",
    "        self.width = width\n",
    "        self.varianceIn = np.zeros((self.width,self.width))\n",
    "        \n",
    "        for i in range(self.n_class):\n",
    "            data = dataset[labels==i]\n",
    "            average = np.mean(data,axis=0)\n",
    "            self.varianceIn +=  (data - average).T @ (data - average)\n",
    "        \n",
    "    \n",
    "    def VarianceEnterClass(self,dataset,labels):\n",
    "        self.varianceEnter = np.zeros((self.width,self.width))\n",
    "        TotalAverage = np.mean(dataset,axis=0)\n",
    "        \n",
    "        for i in range(self.n_class):\n",
    "            data = dataset[labels==i]\n",
    "            [length,width] = data.shape\n",
    "            average = np.mean(data,axis=0)\n",
    "            self.varianceEnter[i] = length*(average - TotalAverage).T @ (average - TotalAverage)\n",
    "        \n",
    "        \n",
    "    def Transform(self,dataset,labels):\n",
    "        self.VarianceInClass(dataset,labels)\n",
    "        self.VarianceEnterClass(dataset,labels)\n",
    "        self.Matrix = np.linalg.inv(self.varianceIn) @ self.varianceEnter\n",
    "        [eigvals,eigvecs] = np.linalg.eig(self.Matrix)\n",
    "        \n",
    "        for i in range(eigvals.size):\n",
    "            indice = i\n",
    "            for j in range(eigvals.size):\n",
    "                if j > i:\n",
    "                    if eigvals[j] > eigvals[indice]:\n",
    "                        indice = j\n",
    "                        \n",
    "            eigvals[i],eigvals[indice] = eigvals[indice],eigvals[i]\n",
    "            eigvecs[:,i],eigvecs[:,indice] = eigvecs[:,indice],eigvecs[:,i]\n",
    "        \n",
    "        self.eigvals = eigvals\n",
    "        self.eigvecs = eigvecs\n",
    "        \n",
    "        NewFeature = dataset @ self.eigvecs[:,0:self.m]\n",
    "        \n",
    "        return NewFeature"
   ]
  },
  {
   "cell_type": "code",
   "execution_count": 10,
   "metadata": {},
   "outputs": [],
   "source": [
    "lda = LDA(3,2)\n",
    "new_features = lda.Transform(dataset,labels)"
   ]
  },
  {
   "cell_type": "code",
   "execution_count": 12,
   "metadata": {},
   "outputs": [
    {
     "data": {
      "text/plain": [
       "<function matplotlib.pyplot.show(*args, **kw)>"
      ]
     },
     "execution_count": 12,
     "metadata": {},
     "output_type": "execute_result"
    },
    {
     "data": {
      "image/png": "[encoded data removed]",
      "text/plain": [
       "<Figure size 432x288 with 1 Axes>"
      ]
     },
     "metadata": {
      "needs_background": "light"
     },
     "output_type": "display_data"
    }
   ],
   "source": [
    "import matplotlib.pyplot as plt\n",
    "\n",
    "plt.scatter(new_features[:50,0],new_features[:50,1],c='r')\n",
    "plt.scatter(new_features[50:100,0],new_features[50:100,1],c='g')\n",
    "plt.scatter(new_features[100:150,0],new_features[100:150,1],c='b')\n",
    "plt.show"
   ]
  }
 ],
 "metadata": {
  "kernelspec": {
   "display_name": "Python 3",
   "language": "python",
   "name": "python3"
  },
  "language_info": {
   "codemirror_mode": {
    "name": "ipython",
    "version": 3
   },
   "file_extension": ".py",
   "mimetype": "text/x-python",
   "name": "python",
   "nbconvert_exporter": "python",
   "pygments_lexer": "ipython3",
   "version": "3.7.4"
  }
 },
 "nbformat": 4,
 "nbformat_minor": 2
}
