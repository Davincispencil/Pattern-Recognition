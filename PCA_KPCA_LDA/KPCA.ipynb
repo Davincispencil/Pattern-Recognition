{
 "cells": [
  {
   "cell_type": "code",
   "execution_count": 1,
   "metadata": {},
   "outputs": [],
   "source": [
    "from sklearn import datasets\n",
    "import numpy as np"
   ]
  },
  {
   "cell_type": "code",
   "execution_count": 2,
   "metadata": {},
   "outputs": [
    {
     "name": "stdout",
     "output_type": "stream",
     "text": [
      "dataset shape: (150, 4)\n",
      "labels shape: (150,)\n"
     ]
    }
   ],
   "source": [
    "iris = datasets.load_iris()\n",
    "dataset = iris.data\n",
    "print('dataset shape:',dataset.shape)\n",
    "labels = iris.target\n",
    "print('labels shape:',labels.shape)"
   ]
  },
  {
   "cell_type": "code",
   "execution_count": 3,
   "metadata": {},
   "outputs": [],
   "source": [
    "class Kernels():        \n",
    "    def Polynomial_Kernel(self,vector1,vector2,d):\n",
    "        k = np.power(np.dot(vector1,vector2),d)\n",
    "        return k \n",
    "        \n",
    "    def Exp_Kernel(self,vector1,vector2,sigma):\n",
    "        k = np.exp(np.dot(vector1,vector2)/(sigma*sigma))\n",
    "        return k  \n",
    "        \n",
    "    def Gaussian_Kernel(self,vector1,vector2,sigma):\n",
    "        k = np.exp(np.sum(np.square(vector1-vector2))/(2*sigma*sigma))\n",
    "        return k \n",
    "    \n",
    "    def Normalized_Exp_Kernel(self,vector1,vector2,sigma):\n",
    "        k = np.exp(np.dot(vector1,vector2)/(sigma*sigma))\n",
    "        k = k / np.sqrt(np.exp(np.sum(np.square(vector1)))*np.exp(np.sum(np.square(vector2))))\n",
    "        return k  "
   ]
  },
  {
   "cell_type": "code",
   "execution_count": 72,
   "metadata": {},
   "outputs": [],
   "source": [
    "#KPCA\n",
    "m = 2\n",
    "kernel = Kernels()\n",
    "\n",
    "[length,width] = dataset.shape\n",
    "Matrix_K = np.zeros((length,length))\n",
    "\n",
    "for i in range(length):\n",
    "    for j in range(length):\n",
    "        Matrix_K[i,j] = kernel.Polynomial_Kernel(dataset[i,:],dataset[j,:],4)\n",
    "        #Matrix_K[i,j] = kernel.Exp_Kernel(dataset[i,:],dataset[j,:],10)\n",
    "        #Matrix_K[i,j] = kernel.Gaussian_Kernel(dataset[i,:],dataset[j,:],10)\n",
    "        #Matrix_K[i,j] = kernel.Normalized_Exp_Kernel(dataset[i,:],dataset[j,:],1)\n",
    "\n",
    "[eigvals,eigvecs] = np.linalg.eig(Matrix_K)\n",
    "\n",
    "for i in range(eigvals.size):\n",
    "        indice = i\n",
    "        for j in range(eigvals.size):\n",
    "            if j > i:\n",
    "                if eigvals[j] > eigvals[indice]:\n",
    "                    indice = j\n",
    "                        \n",
    "        eigvecs[:,i],eigvecs[:,indice] = eigvecs[:,indice],eigvecs[:,i]\n",
    "            \n",
    "new_features = Matrix_K @ eigvecs[:,0:m]"
   ]
  },
  {
   "cell_type": "code",
   "execution_count": 73,
   "metadata": {},
   "outputs": [
    {
     "data": {
      "text/plain": [
       "<function matplotlib.pyplot.show(*args, **kw)>"
      ]
     },
     "execution_count": 73,
     "metadata": {},
     "output_type": "execute_result"
    },
    {
     "data": {
      "image/png": "[encoded data removed]",
      "text/plain": [
       "<Figure size 432x288 with 1 Axes>"
      ]
     },
     "metadata": {
      "needs_background": "light"
     },
     "output_type": "display_data"
    }
   ],
   "source": [
    "import matplotlib.pyplot as plt\n",
    "\n",
    "plt.scatter(new_features[:50,0],new_features[:50,1],c='r')\n",
    "plt.scatter(new_features[50:100,0],new_features[50:100,1],c='g')\n",
    "plt.scatter(new_features[100:150,0],new_features[100:150,1],c='b')\n",
    "plt.show"
   ]
  }
 ],
 "metadata": {
  "kernelspec": {
   "display_name": "Python 3",
   "language": "python",
   "name": "python3"
  },
  "language_info": {
   "codemirror_mode": {
    "name": "ipython",
    "version": 3
   },
   "file_extension": ".py",
   "mimetype": "text/x-python",
   "name": "python",
   "nbconvert_exporter": "python",
   "pygments_lexer": "ipython3",
   "version": "3.7.4"
  }
 },
 "nbformat": 4,
 "nbformat_minor": 2
}
