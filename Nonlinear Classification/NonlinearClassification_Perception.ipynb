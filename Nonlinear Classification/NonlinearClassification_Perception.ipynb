{
 "cells": [
  {
   "cell_type": "markdown",
   "metadata": {},
   "source": [
    "# 模式识别实验二：感知器算法"
   ]
  },
  {
   "cell_type": "code",
   "execution_count": 1,
   "metadata": {},
   "outputs": [],
   "source": [
    "#导入库文件\n",
    "from sklearn import datasets\n",
    "import numpy as np\n",
    "from sklearn.model_selection import train_test_split \n",
    "import matplotlib.pyplot as plt"
   ]
  },
  {
   "cell_type": "code",
   "execution_count": 2,
   "metadata": {},
   "outputs": [
    {
     "name": "stdout",
     "output_type": "stream",
     "text": [
      "iris dataset length:150, width: 4\n",
      "iris.target long : 150 \n",
      "iris dataset with bias size:  (150, 5)\n"
     ]
    }
   ],
   "source": [
    "#加载数据并显示\n",
    "iris=datasets.load_iris()\n",
    "\n",
    "#data对应了样本的4个特征，150行4列\n",
    "[length,width] = iris.data.shape\n",
    "print('iris dataset length:%d, width: %d' % (length,width)) \n",
    "\n",
    "#target对应样本的标签，150行1列\n",
    "long = iris.target.shape\n",
    "print('iris.target long : %d ' % long)\n",
    "\n",
    "#为数据集整体添加偏置项\n",
    "dataset = np.hstack((iris.data,np.ones((length,1))))\n",
    "print('iris dataset with bias size: ',dataset.shape)"
   ]
  },
  {
   "cell_type": "code",
   "execution_count": 3,
   "metadata": {},
   "outputs": [],
   "source": [
    "#数据集按照标签分开，用于两两分类训练权值\n",
    "dataset1 = dataset[0:50,:]\n",
    "labels1 = iris.target[0:50]\n",
    "\n",
    "dataset2 = dataset[50:100,:]\n",
    "labels2 = iris.target[50:100]\n",
    "\n",
    "dataset3 = dataset[100:150,:]\n",
    "labels3 = iris.target[100:150]"
   ]
  },
  {
   "cell_type": "code",
   "execution_count": 4,
   "metadata": {},
   "outputs": [],
   "source": [
    "#检查样本是否都被正确分类\n",
    "def check_fit(dataset,labels,alpha):\n",
    "    value = dataset @ alpha\n",
    "    value[value > 0] = labels[0]\n",
    "    value[value < 0] = labels[-1]\n",
    "    errors = abs(value - labels)\n",
    "    error = np.mean(errors)\n",
    "    return error"
   ]
  },
  {
   "cell_type": "code",
   "execution_count": 5,
   "metadata": {},
   "outputs": [],
   "source": [
    "#定义权值更新函数 两两分类\n",
    "#iteration 定义最大训练次数 定位2000\n",
    "def train_function(dataset1,labels1,dataset2,labels2,iteration):\n",
    "    #合并数据集dataset1 dataset2 \n",
    "    dataset = np.vstack((dataset1,dataset2))\n",
    "    labels = np.hstack((labels1,labels2))\n",
    "    #权值初始化为（-0.5，0.5）之间的随机数\n",
    "    alpha = np.random.random((5))- 0.5\n",
    "    [length,width] = dataset.shape\n",
    "    #取x_label为最后一个label 用于数据变号\n",
    "    x_label = labels[-1]\n",
    "    for i in range(iteration):\n",
    "        indice = np.random.randint(0,length)\n",
    "        data = dataset[indice]\n",
    "        #如果为第二类样本中的数据，data取负\n",
    "        if labels[indice] == x_label:\n",
    "            data = -data\n",
    "        value = data @ alpha\n",
    "        if value <= 0:\n",
    "            #step = abs(value) / sum(data * data)\n",
    "            step = 1 \n",
    "            alpha = alpha + step * data\n",
    "        else:\n",
    "            error = check_fit(dataset,labels,alpha)\n",
    "            #控制训练集的误差在0.02以内\n",
    "            if error > 0.02:\n",
    "                continue\n",
    "            else:\n",
    "                print('train process finished')\n",
    "                break        \n",
    "    print('iteration: ',i)\n",
    "    print('alpha: ', alpha)   \n",
    "    return alpha"
   ]
  },
  {
   "cell_type": "code",
   "execution_count": 65,
   "metadata": {},
   "outputs": [],
   "source": [
    "def predict_function(data,alpha12,alpha13,alpha23):\n",
    "    value = np.zeros((3,))\n",
    "    value[0] = data @ alpha12\n",
    "    value[1] = data @ alpha13\n",
    "    value[2] = data @ alpha23\n",
    "    # value12 and vaule13 > 0\n",
    "    if value[0] > 0 and value[1] > 0:\n",
    "        predict = 0\n",
    "    # value12<0 and value23 > 0\n",
    "    elif value[0] < 0 and value[2] > 0:\n",
    "        predict = 1\n",
    "    # value13 and value 23 < 0\n",
    "    elif value[1] < 0 and value[2] < 0:\n",
    "        predict = 2\n",
    "    #如果为IR区域，定为第4类\n",
    "    else:\n",
    "        predict = 3\n",
    "    return predict"
   ]
  },
  {
   "cell_type": "code",
   "execution_count": 77,
   "metadata": {},
   "outputs": [],
   "source": [
    "#传入分类结果和标签用于计算分类错误率\n",
    "def error_ratio(result,labels):\n",
    "    error = abs(result - labels)\n",
    "    error[error > 0] = 1\n",
    "    error_ratio = np.mean(error)\n",
    "    print('error_ratio = ',error_ratio)"
   ]
  },
  {
   "cell_type": "code",
   "execution_count": 67,
   "metadata": {},
   "outputs": [],
   "source": [
    "#将数据集分为训练集和测试集\n",
    "X_train1,X_test1,y_train1,y_test1 = train_test_split(dataset1, labels1, test_size = 0.3, random_state = 0)\n",
    "X_train2,X_test2,y_train2,y_test2 = train_test_split(dataset2, labels2, test_size = 0.3, random_state = 0)\n",
    "X_train3,X_test3,y_train3,y_test3 = train_test_split(dataset3, labels3, test_size = 0.3, random_state = 0)"
   ]
  },
  {
   "cell_type": "code",
   "execution_count": 81,
   "metadata": {},
   "outputs": [
    {
     "name": "stdout",
     "output_type": "stream",
     "text": [
      "train process finished\n",
      "iteration:  25\n",
      "alpha:  [ 1.09788663  6.28964454 -8.8571606  -2.98949689  1.18888483]\n",
      "train process finished\n",
      "iteration:  16\n",
      "alpha:  [  3.01911417   6.99082169 -10.19139253  -6.04451416   1.64422894]\n",
      "train process finished\n",
      "iteration:  27\n",
      "alpha:  [ 2.52452252  1.59116369 -3.65704625 -2.02606035  0.87933523]\n"
     ]
    }
   ],
   "source": [
    "#训练得到三个权值向量\n",
    "alpha12 = train_function(X_train1,y_train1,X_train2,y_train2,1000)\n",
    "alpha13 = train_function(X_train1,y_train1,X_train3,y_train3,1000)\n",
    "alpha23 = train_function(X_train2,y_train2,X_train3,y_train3,1000)"
   ]
  },
  {
   "cell_type": "code",
   "execution_count": 86,
   "metadata": {},
   "outputs": [
    {
     "name": "stdout",
     "output_type": "stream",
     "text": [
      "error_ratio =  0.06666666666666667\n"
     ]
    }
   ],
   "source": [
    "predict = np.zeros((length))\n",
    "for i in range(length):\n",
    "    predict[i] = predict_function(predict_dataset[i,:],alpha12,alpha13,alpha23)\n",
    "#errors = abs(predict - predict_labels)\n",
    "#print(errors)\n",
    "error_ratio(predict,predict_labels)"
   ]
  }
 ],
 "metadata": {
  "kernelspec": {
   "display_name": "Python 3",
   "language": "python",
   "name": "python3"
  },
  "language_info": {
   "codemirror_mode": {
    "name": "ipython",
    "version": 3
   },
   "file_extension": ".py",
   "mimetype": "text/x-python",
   "name": "python",
   "nbconvert_exporter": "python",
   "pygments_lexer": "ipython3",
   "version": "3.7.4"
  }
 },
 "nbformat": 4,
 "nbformat_minor": 2
}
