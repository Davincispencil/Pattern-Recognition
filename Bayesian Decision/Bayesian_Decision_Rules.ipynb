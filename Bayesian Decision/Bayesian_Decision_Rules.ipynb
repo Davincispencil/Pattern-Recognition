{
 "cells": [
  {
   "cell_type": "markdown",
   "metadata": {},
   "source": [
    "# Experiment 1: Bayesian Decision Rules"
   ]
  },
  {
   "cell_type": "markdown",
   "metadata": {},
   "source": [
    "## Iris Classification"
   ]
  },
  {
   "cell_type": "code",
   "execution_count": 1,
   "metadata": {},
   "outputs": [],
   "source": [
    "from sklearn import datasets\n",
    "import numpy as np\n",
    "import matplotlib.pyplot as plt"
   ]
  },
  {
   "cell_type": "markdown",
   "metadata": {},
   "source": [
    "### Dataset"
   ]
  },
  {
   "cell_type": "code",
   "execution_count": 2,
   "metadata": {},
   "outputs": [
    {
     "name": "stdout",
     "output_type": "stream",
     "text": [
      "(150, 4)\n",
      "(150,)\n",
      "iris dataset: \n",
      " [[5.1 3.5 1.4 0.2]\n",
      " [4.9 3.  1.4 0.2]\n",
      " [7.  3.2 4.7 1.4]\n",
      " [6.4 3.2 4.5 1.5]\n",
      " [6.3 3.3 6.  2.5]\n",
      " [5.8 2.7 5.1 1.9]]\n",
      "corresponding labels: \n",
      " [0 0 1 1 2 2]\n"
     ]
    }
   ],
   "source": [
    "iris=datasets.load_iris()\n",
    "\n",
    "#data对应了样本的4个特征，150行4列\n",
    "print(iris.data.shape) \n",
    "\n",
    "#target对应样本的标签，159行1列\n",
    "print(iris.target.shape)\n",
    "\n",
    "#显示每个类别前2个样本特征\n",
    "print('iris dataset: \\n',iris.data[(0,1,50,51,100,101),:])\n",
    " \n",
    "#显示样本特征对应的标签\n",
    "print('corresponding labels: \\n', iris.target[(0,1,50,51,100,101),])"
   ]
  },
  {
   "cell_type": "code",
   "execution_count": 3,
   "metadata": {},
   "outputs": [
    {
     "name": "stdout",
     "output_type": "stream",
     "text": [
      "数据集1的均值：\n",
      " [5.035 3.48  1.435 0.235]\n",
      "数据集2的均值：\n",
      " [5.975 2.76  4.255 1.325]\n",
      "数据集3的均值：\n",
      " [6.56  2.92  5.655 2.045]\n",
      "数据集1的方差：\n",
      " [[0.18239474 0.15231579 0.01976316 0.02239474]\n",
      " [0.15231579 0.16589474 0.01547368 0.02863158]\n",
      " [0.01976316 0.01547368 0.02134211 0.00502632]\n",
      " [0.02239474 0.02863158 0.00502632 0.00871053]]\n",
      "数据集2的方差：\n",
      " [[0.36407895 0.14157895 0.22723684 0.06697368]\n",
      " [0.14157895 0.14252632 0.10863158 0.05105263]\n",
      " [0.22723684 0.10863158 0.20155263 0.06539474]\n",
      " [0.06697368 0.05105263 0.06539474 0.03986842]]\n",
      "数据集3的方差：\n",
      " [[0.53515789 0.144      0.43336842 0.07031579]\n",
      " [0.144      0.14905263 0.11621053 0.068     ]\n",
      " [0.43336842 0.11621053 0.40997368 0.07528947]\n",
      " [0.07031579 0.068      0.07528947 0.07523684]]\n"
     ]
    }
   ],
   "source": [
    "#计算3类数据的均值和协方差矩阵\n",
    "#均值\n",
    "iris1 = iris.data[:20,:]\n",
    "iris2 = iris.data[50:70,:]\n",
    "iris3 = iris.data[100:120,:]\n",
    "\n",
    "ave1 = np.mean(iris1,0)\n",
    "ave2 = np.mean(iris2,0)\n",
    "ave3 = np.mean(iris3,0)\n",
    "\n",
    "#方差\n",
    "varin1 = np.cov(iris1.T)\n",
    "varin2 = np.cov(iris2.T)\n",
    "varin3 = np.cov(iris3.T)\n",
    "\n",
    "print('数据集1的均值：\\n',ave1)\n",
    "print('数据集2的均值：\\n',ave2)\n",
    "print('数据集3的均值：\\n',ave3)\n",
    "\n",
    "print('数据集1的方差：\\n',varin1)\n",
    "print('数据集2的方差：\\n',varin2)\n",
    "print('数据集3的方差：\\n',varin3)"
   ]
  },
  {
   "cell_type": "code",
   "execution_count": 4,
   "metadata": {},
   "outputs": [],
   "source": [
    "#定义高斯函数用于计算条件概率\n",
    "def Gaussfunction(data,dimension,mean,variance):\n",
    "    constant = 1/(np.power(2 * np.pi,dimension/2 ) * np.sqrt(abs(np.linalg.det(variance))))\n",
    "    variance_inv = np.linalg.inv(variance)\n",
    "    error = data - mean\n",
    "    value = constant * np.exp(-(error.T @ variance_inv @ error)/2.0)\n",
    "    return value"
   ]
  },
  {
   "cell_type": "markdown",
   "metadata": {},
   "source": [
    "### 最小错误决策"
   ]
  },
  {
   "cell_type": "code",
   "execution_count": 5,
   "metadata": {},
   "outputs": [],
   "source": [
    "#定义两两比较的最小错误函数\n",
    "#其中data为待分类的数据\n",
    "#dim(ension)为数据集的维度\n",
    "#m(ean) v(ariance) label = [2 1] \n",
    "def MiniErrorDecFunc(data,dimension,m1,m2,v1,v2,label,threshold):\n",
    "    P_x_w1 = Gaussfunction(data,dimension,m1,v1)\n",
    "    P_x_w2 = Gaussfunction(data,dimension,m2,v2)\n",
    "    likelihood = P_x_w1 / P_x_w2\n",
    "    decision = label[0]\n",
    "    if likelihood < threshold:\n",
    "        decision = label[1]\n",
    "    return P_x_w1,P_x_w2,decision"
   ]
  },
  {
   "cell_type": "markdown",
   "metadata": {},
   "source": [
    "### 最小风险决策"
   ]
  },
  {
   "cell_type": "code",
   "execution_count": 6,
   "metadata": {},
   "outputs": [],
   "source": [
    "#公式：计算权值对阈值影响\n",
    "def ValueMatrixFunc(V_matrix):\n",
    "    return (V_matrix[0][1] - V_matrix[1][1]) / (V_matrix[1][0] - V_matrix[0][0])    \n",
    "\n",
    "def MiniRiskDecFunc(data,dimension,m1,m2,v1,v2,label,threshold,VMatrix):\n",
    "    P_x_w1 = Gaussfunction(data,dimension,m1,v1)\n",
    "    P_x_w2 = Gaussfunction(data,dimension,m2,v2)\n",
    "    likelihood = P_x_w1 / P_x_w2\n",
    "    decision = label[0]\n",
    "    \n",
    "    threshold = ValueMatrixFunc(VMatrix) * threshold\n",
    "    \n",
    "    if likelihood < threshold:\n",
    "        decision = label[1]\n",
    "    return P_x_w1,P_x_w2,decision"
   ]
  },
  {
   "cell_type": "markdown",
   "metadata": {},
   "source": [
    "### 样本分类"
   ]
  },
  {
   "cell_type": "code",
   "execution_count": 7,
   "metadata": {},
   "outputs": [],
   "source": [
    "#定义计算错误率的函数\n",
    "def rate_function(decision):\n",
    "    error1 = abs(decision[:50] - label1)\n",
    "    error2 = abs(decision[50:100] - label2)\n",
    "\n",
    "    error1[error1>0] = 1\n",
    "    error2[error2>0] = 1\n",
    "\n",
    "    error_rate1 = sum(error1) / 50\n",
    "    error_rate2 = sum(error2) / 50\n",
    "\n",
    "    print('error_rate1 = %f error_rate2 = %f ' % (error_rate1,error_rate2))\n",
    "    "
   ]
  },
  {
   "cell_type": "code",
   "execution_count": 8,
   "metadata": {},
   "outputs": [
    {
     "name": "stdout",
     "output_type": "stream",
     "text": [
      "error_rate1 = 0.000000 error_rate2 = 0.000000 \n"
     ]
    }
   ],
   "source": [
    "#最小错误决策分类 阈值为1，区分1 2类  \n",
    "P_x_w1 = np.zeros((100,1))\n",
    "P_x_w2 = P_x_w1\n",
    "decision = P_x_w1\n",
    "label1 = 1\n",
    "label2 = 2\n",
    "threshold = 1\n",
    "for i in range(100):\n",
    "    [P_x_w1[i], P_x_w2[i], decision[i]] = MiniErrorDecFunc(iris.data[i,:],4,ave1,ave2,varin1,varin2,[1,2],threshold)\n",
    "rate_function(decision)"
   ]
  },
  {
   "cell_type": "code",
   "execution_count": 9,
   "metadata": {},
   "outputs": [
    {
     "name": "stdout",
     "output_type": "stream",
     "text": [
      "error_rate1 = 0.000000 error_rate2 = 0.000000 \n"
     ]
    }
   ],
   "source": [
    "# 最小错误决策分类 阈值为1，区分1 3类\n",
    "P_x_w1 = np.zeros((100,1))\n",
    "P_x_w3 = P_x_w1\n",
    "decision = P_x_w1\n",
    "label1 = 1\n",
    "label2 = 3\n",
    "threshold = 1\n",
    "for i in range(100):\n",
    "    if i > 49 :\n",
    "        [P_x_w1[i], P_x_w3[i], decision[i]] = MiniErrorDecFunc(iris.data[i+50,:],4,ave1,ave3,varin1,varin3,[1,3],threshold) \n",
    "        \n",
    "    [P_x_w1[i], P_x_w3[i], decision[i]] = MiniErrorDecFunc(iris.data[i,:],4,ave1,ave3,varin1,varin3,[1,3],threshold)\n",
    "\n",
    "rate_function(decision)"
   ]
  },
  {
   "cell_type": "code",
   "execution_count": 10,
   "metadata": {},
   "outputs": [
    {
     "name": "stdout",
     "output_type": "stream",
     "text": [
      "error_rate1 = 0.040000 error_rate2 = 0.000000 \n"
     ]
    }
   ],
   "source": [
    "#最小错误决策分类 阈值为1，区分1 2类\n",
    "P_x_w2 = np.zeros((100,1))\n",
    "P_x_w3 = P_x_w2\n",
    "decision = P_x_w2\n",
    "label1 = 2\n",
    "label2 = 3\n",
    "threshold = 1\n",
    "for i in range(100):\n",
    "    [P_x_w2[i], P_x_w3[i], decision[i]] = MiniErrorDecFunc(iris.data[i+50,:],4,ave2,ave3,varin2,varin3,[2,3],threshold)\n",
    "\n",
    "rate_function(decision)"
   ]
  },
  {
   "cell_type": "code",
   "execution_count": 11,
   "metadata": {},
   "outputs": [
    {
     "name": "stdout",
     "output_type": "stream",
     "text": [
      "error_rate1 = 0.000000 error_rate2 = 1.000000 \n",
      "error_rate1 = 0.040000 error_rate2 = 0.000000 \n",
      "error_rate1 = 0.040000 error_rate2 = 0.000000 \n",
      "error_rate1 = 0.060000 error_rate2 = 0.000000 \n",
      "error_rate1 = 0.060000 error_rate2 = 0.000000 \n",
      "error_rate1 = 0.060000 error_rate2 = 0.000000 \n",
      "error_rate1 = 0.060000 error_rate2 = 0.000000 \n",
      "error_rate1 = 0.060000 error_rate2 = 0.000000 \n",
      "error_rate1 = 0.060000 error_rate2 = 0.000000 \n",
      "error_rate1 = 0.060000 error_rate2 = 0.000000 \n"
     ]
    }
   ],
   "source": [
    "#最小错误决策分类 阈值从1到10， 区分2 3 类\n",
    "P_x_w2 = np.zeros((100,1))\n",
    "P_x_w3 = P_x_w2\n",
    "decision = P_x_w2\n",
    "label1 = 2\n",
    "label2 = 3\n",
    "\n",
    "for threshold in range(10):\n",
    "    for i in range(100):\n",
    "        [P_x_w2[i], P_x_w3[i], decision[i]] = MiniErrorDecFunc(iris.data[i+50,:],4,ave2,ave3,varin2,varin3,[2,3],threshold)\n",
    "    rate_function(decision)    "
   ]
  },
  {
   "cell_type": "code",
   "execution_count": 12,
   "metadata": {},
   "outputs": [
    {
     "name": "stdout",
     "output_type": "stream",
     "text": [
      "error_rate1 = 0.000000 error_rate2 = 0.000000 \n"
     ]
    }
   ],
   "source": [
    "#最小风险决策分类 阈值为1 L12为10\n",
    "#对1 2 类数据进行分类\n",
    "P_x_w1 = np.zeros((100,1))\n",
    "P_x_w1 = P_x_w1\n",
    "decision = P_x_w1\n",
    "label1 = 1\n",
    "label2 = 2\n",
    "\n",
    "#损失矩阵\n",
    "Vmatrix=[[0,10],[1,0]]\n",
    "threshold = 1\n",
    "for i in range(100):\n",
    "    [P_x_w1[i], P_x_w2[i], decision[i]] = MiniRiskDecFunc(iris.data[i,:],4,ave1,ave2,varin1,varin2,[1,2],threshold,Vmatrix)\n",
    "rate_function(decision)    "
   ]
  },
  {
   "cell_type": "code",
   "execution_count": 13,
   "metadata": {},
   "outputs": [
    {
     "name": "stdout",
     "output_type": "stream",
     "text": [
      "error_rate1 = 0.000000 error_rate2 = 0.000000 \n"
     ]
    }
   ],
   "source": [
    "#最小风险决策分类 阈值为1 L12为10\n",
    "#对1 3 类数据进行分类\n",
    "P_x_w1 = np.zeros((100,1))\n",
    "P_x_w3 = P_x_w1\n",
    "decision = P_x_w1\n",
    "label1 = 1\n",
    "label2 = 3\n",
    "\n",
    "#损失矩阵\n",
    "Vmatrix=[[0,10],[1,0]]\n",
    "threshold = 1\n",
    "for i in range(100):\n",
    "    if i > 49:\n",
    "        [P_x_w1[i], P_x_w3[i], decision[i]] = MiniRiskDecFunc(iris.data[i+50,:],4,ave1,ave3,varin1,varin3,[1,3],threshold,Vmatrix)  \n",
    "        \n",
    "    [P_x_w1[i], P_x_w3[i], decision[i]] = MiniRiskDecFunc(iris.data[i,:],4,ave1,ave3,varin1,varin3,[1,3],threshold,Vmatrix)\n",
    "    \n",
    "rate_function(decision)"
   ]
  },
  {
   "cell_type": "code",
   "execution_count": 14,
   "metadata": {},
   "outputs": [
    {
     "name": "stdout",
     "output_type": "stream",
     "text": [
      "error_rate1 = 0.060000 error_rate2 = 0.000000 \n",
      "error_rate1 = 0.160000 error_rate2 = 0.000000 \n",
      "error_rate1 = 0.260000 error_rate2 = 0.000000 \n"
     ]
    }
   ],
   "source": [
    "#最小风险决策分类 阈值为1 L12为10\n",
    "#对2 3 类数据进行分类\n",
    "P_x_w2 = np.zeros((100,1))\n",
    "P_x_w3 = P_x_w2\n",
    "decision = P_x_w2\n",
    "label1 = 2\n",
    "label2 = 3\n",
    "\n",
    "#损失矩阵L12=10\n",
    "Vmatrix=[[0,10],[1,0]]\n",
    "threshold = 1\n",
    "\n",
    "for i in range(100): \n",
    "    [P_x_w2[i], P_x_w3[i], decision[i]] = MiniRiskDecFunc(iris.data[i+50,:],4,ave2,ave3,varin2,varin3,[2,3],threshold,Vmatrix)\n",
    "    \n",
    "rate_function(decision)\n",
    "\n",
    "#最小风险决策分类 阈值为1 L12为100\n",
    "Vmatrix=[[0,100],[1,0]]\n",
    "threshold = 1\n",
    "\n",
    "for i in range(100): \n",
    "    [P_x_w2[i], P_x_w3[i], decision[i]] = MiniRiskDecFunc(iris.data[i+50,:],4,ave2,ave3,varin2,varin3,[2,3],threshold,Vmatrix)\n",
    "    \n",
    "rate_function(decision)\n",
    "\n",
    "#最小风险决策分类 阈值为10 L12为100\n",
    "Vmatrix=[[0,100],[1,0]]\n",
    "threshold = 10\n",
    "\n",
    "for i in range(100): \n",
    "    [P_x_w2[i], P_x_w3[i], decision[i]] = MiniRiskDecFunc(iris.data[i+50,:],4,ave2,ave3,varin2,varin3,[2,3],threshold,Vmatrix)\n",
    "    \n",
    "rate_function(decision)"
   ]
  },
  {
   "cell_type": "markdown",
   "metadata": {},
   "source": [
    "# Neyman-Person决策"
   ]
  },
  {
   "cell_type": "code",
   "execution_count": 15,
   "metadata": {},
   "outputs": [
    {
     "name": "stdout",
     "output_type": "stream",
     "text": [
      "数据集1的均值： 1.4349999999999998\n",
      "数据集2的均值： 4.255\n",
      "数据集3的均值： 5.655\n",
      "数据集1的方差： 0.02134210526315789\n",
      "数据集2的方差： 0.20155263157894743\n",
      "数据集3的方差： 0.4099736842105264\n"
     ]
    }
   ],
   "source": [
    "iris1 = iris.data[:50,2]\n",
    "iris2 = iris.data[50:100,2]\n",
    "iris3 = iris.data[100:150,2]\n",
    "\n",
    "junzhi1 = np.mean(iris1[:20],0)\n",
    "junzhi2 = np.mean(iris2[:20],0)\n",
    "junzhi3 = np.mean(iris3[:20],0)\n",
    "\n",
    "#方差\n",
    "fangcha1 = np.cov(iris1[:20].T)\n",
    "fangcha2 = np.cov(iris2[:20].T)\n",
    "fangcha3 = np.cov(iris3[:20].T)\n",
    "\n",
    "print('数据集1的均值：',junzhi1)\n",
    "print('数据集2的均值：',junzhi2)\n",
    "print('数据集3的均值：',junzhi3)\n",
    "\n",
    "print('数据集1的方差：',fangcha1)\n",
    "print('数据集2的方差：',fangcha2)\n",
    "print('数据集3的方差：',fangcha3)"
   ]
  },
  {
   "cell_type": "code",
   "execution_count": 16,
   "metadata": {},
   "outputs": [],
   "source": [
    "def new_gauss_function(data,mean,variance):\n",
    "    constant = 1/(np.sqrt(2 * np.pi * variance))\n",
    "    error = data - mean\n",
    "    value = constant * np.exp(-(error * error)/(2.0*variance))\n",
    "    return value"
   ]
  },
  {
   "cell_type": "code",
   "execution_count": 17,
   "metadata": {},
   "outputs": [],
   "source": [
    "#calculate_threshold 根据最小允许的错误率和条件概率分布来计算阈值\n",
    "def calculate_threshold(mini_error,m1,v1,m2,v2):\n",
    "    data = m2 + mini_error * np.sqrt(v2)\n",
    "    P1 = new_gauss_function(data,m1,v1)\n",
    "    P2 = new_gauss_function(data,m2,v2)\n",
    "    threshold = P1 / P2\n",
    "    return threshold"
   ]
  },
  {
   "cell_type": "code",
   "execution_count": 18,
   "metadata": {},
   "outputs": [],
   "source": [
    "#Neyman_Person决策函数定义\n",
    "def Neyman_Person(data,m1,m2,v1,v2,labels,mini_error):\n",
    "    threshold = calculate_threshold(mini_error,m1,v1,m2,v2)\n",
    "    P_x_w1 = new_gauss_function(data,m1,v1)\n",
    "    P_x_w2 = new_gauss_function(data,m2,v2)\n",
    "    likelihood = P_x_w1 / P_x_w2\n",
    "    decision = labels[0]\n",
    "    \n",
    "    if likelihood < threshold:\n",
    "        decision = labels[1]\n",
    "    return P_x_w1,P_x_w2,decision,threshold"
   ]
  },
  {
   "cell_type": "code",
   "execution_count": 19,
   "metadata": {},
   "outputs": [
    {
     "name": "stdout",
     "output_type": "stream",
     "text": [
      "threshold =  1.2348327832484011e-43\n",
      "error_rate1 = 0.000000 error_rate2 = 0.100000 \n"
     ]
    }
   ],
   "source": [
    "#Neyman-Person决策 第二类错误率0.06 对1 2 类样本分类\n",
    "mini_error = -1.65\n",
    "threshold = 0\n",
    "label1 = 1\n",
    "label2 = 2\n",
    "for i in range(100):\n",
    "    if i < 50:\n",
    "        [P_x_w1[i],P_x_w2[i],decision[i],threshold] = Neyman_Person(iris1[i],junzhi1,junzhi2,fangcha1,fangcha2,[1,2],mini_error)\n",
    "    else:\n",
    "        [P_x_w1[i],P_x_w2[i],decision[i],threshold] = Neyman_Person(iris2[i-50],junzhi1,junzhi2,fangcha1,fangcha2,[1,2],mini_error)    \n",
    "\n",
    "print('threshold = ',threshold)\n",
    "rate_function(decision)"
   ]
  },
  {
   "cell_type": "code",
   "execution_count": 20,
   "metadata": {},
   "outputs": [
    {
     "name": "stdout",
     "output_type": "stream",
     "text": [
      "threshold =  2.5535970643281388e-101\n",
      "error_rate1 = 0.000000 error_rate2 = 0.020000 \n"
     ]
    }
   ],
   "source": [
    "#Neyman-Person决策 第二类错误率0.06 对1 3 类样本分类\n",
    "mini_error = -1.65\n",
    "label1 = 1\n",
    "label2 = 3\n",
    "for i in range(100):\n",
    "    if i < 50:\n",
    "        [P_x_w1[i],P_x_w2[i],decision[i],threshold] = Neyman_Person(iris1[i],junzhi1,junzhi3,fangcha1,fangcha3,[1,3],mini_error)\n",
    "    else:\n",
    "        [P_x_w1[i],P_x_w2[i],decision[i],threshold] = Neyman_Person(iris3[i-50],junzhi1,junzhi3,fangcha1,fangcha3,[1,3],mini_error)    \n",
    "\n",
    "print('threshold = ',threshold)\n",
    "rate_function(decision)"
   ]
  },
  {
   "cell_type": "code",
   "execution_count": 21,
   "metadata": {},
   "outputs": [
    {
     "name": "stdout",
     "output_type": "stream",
     "text": [
      "threshold =  4.151756745027747\n",
      "error_rate1 = 0.280000 error_rate2 = 0.020000 \n"
     ]
    }
   ],
   "source": [
    "#Neyman-Person决策 第二类错误率0.06 对2 3类样本分类\n",
    "mini_error = -1.65\n",
    "label1 = 2\n",
    "label2 = 3\n",
    "for i in range(100):\n",
    "    if i < 50:\n",
    "        [P_x_w1[i],P_x_w2[i],decision[i],threshold] = Neyman_Person(iris2[i],junzhi2,junzhi3,fangcha2,fangcha3,[2,3],mini_error)\n",
    "    else:\n",
    "        [P_x_w1[i],P_x_w2[i],decision[i],threshold] = Neyman_Person(iris3[i-50],junzhi2,junzhi3,fangcha2,fangcha3,[1,3],mini_error)    \n",
    "\n",
    "print('threshold = ',threshold)\n",
    "rate_function(decision)"
   ]
  },
  {
   "cell_type": "code",
   "execution_count": null,
   "metadata": {},
   "outputs": [],
   "source": []
  }
 ],
 "metadata": {
  "kernelspec": {
   "display_name": "Python 3",
   "language": "python",
   "name": "python3"
  },
  "language_info": {
   "codemirror_mode": {
    "name": "ipython",
    "version": 3
   },
   "file_extension": ".py",
   "mimetype": "text/x-python",
   "name": "python",
   "nbconvert_exporter": "python",
   "pygments_lexer": "ipython3",
   "version": "3.7.4"
  }
 },
 "nbformat": 4,
 "nbformat_minor": 2
}
