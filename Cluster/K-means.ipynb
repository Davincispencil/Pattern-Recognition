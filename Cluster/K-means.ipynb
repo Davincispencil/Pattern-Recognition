{
 "cells": [
  {
   "cell_type": "markdown",
   "metadata": {},
   "source": [
    "# K-means 算法实现"
   ]
  },
  {
   "cell_type": "code",
   "execution_count": 1,
   "metadata": {},
   "outputs": [],
   "source": [
    "# 导入库\n",
    "from sklearn import datasets\n",
    "import numpy as np\n",
    "import random\n",
    "from sklearn.model_selection import train_test_split"
   ]
  },
  {
   "cell_type": "code",
   "execution_count": 2,
   "metadata": {},
   "outputs": [
    {
     "name": "stdout",
     "output_type": "stream",
     "text": [
      "iris dataset length:150, width:4\n"
     ]
    }
   ],
   "source": [
    "#加载数据并显示\n",
    "iris = datasets.load_iris()\n",
    "[length, width] = iris.data.shape\n",
    "print('iris dataset length:%d, width:%d' % (length,width))"
   ]
  },
  {
   "cell_type": "code",
   "execution_count": 3,
   "metadata": {},
   "outputs": [],
   "source": [
    "#定义Initial_Center类包含五种初始化方法\n",
    "class Initial_Center():\n",
    "    #初始化函数记录用于类别个数k\n",
    "    #Random_Center对应随机选取数据中心的方法 整个数据集作为输入参数\n",
    "    #Empircal_Center 对应随机选取数据中心的方法 以指定的数据中心作为输入参数\n",
    "    #Random_MeanCenter 对应随机将数据分为K类取这K类数据的均值向量作为初始数据中心的方法 整个数据集作为输入参数\n",
    "    #FarDistance_Center 选择批次距离尽可能远的点作为初始数据中心 整个数据集作为输入参数\n",
    "    #Dense_Center 对应密度法求初始数据中心 \n",
    "    #输入整个数据集， r表示计算密度的半径 Dt是用于选择高密度集的阈值\n",
    "    #经过对数据的计算分析， iris数据集r取0.4，Dt取6较合适\n",
    "    def __init__(self,k):\n",
    "        self.n_class = k\n",
    "        \n",
    "    def Random_Center(self,dataset):\n",
    "        [length, width] = dataset.shape\n",
    "        indices = random.sample(range(0, length),self.n_class)\n",
    "        self.initial_center  = dataset[indices]\n",
    "      \n",
    "    \n",
    "    def Empirical_Center(self,Centers):\n",
    "        self.initial_center = Centers\n",
    "    \n",
    "    def Random_MeanCenter(self,dataset):\n",
    "        [length, width] = dataset.shape\n",
    "        length = length - length % self.n_class\n",
    "        \n",
    "        indices = random.sample(range(0, length),length)\n",
    "        self.initial_center  = np.mean(dataset[indices].reshape((self.n_class,-1,width)), 1)\n",
    "        \n",
    "    \n",
    "    def FarDistance_Center(self,dataset):\n",
    "        [length, width] = dataset.shape\n",
    "        self.initial_center = np.zeros((self.n_class,width))\n",
    "        self.indices = random.sample(range(0, length),self.n_class)\n",
    "        self.indices[0] = np.random.randint(0,length)\n",
    "        self.initial_center[0] = dataset[self.indices[0]]\n",
    "        self.distance = np.sum(np.square(dataset - self.initial_center[0]),1)\n",
    "            \n",
    "        for i in range(self.n_class-1):\n",
    "            self.distance += np.sum(np.square(dataset - self.initial_center[i]),1)\n",
    "            indice = np.argmax(self.distance)\n",
    "            #print(np.max(self.distance))\n",
    "            #print(np.min(self.distance))\n",
    "            if indice in self.indices:\n",
    "                self.distance[indice] = 0\n",
    "                \n",
    "            self.indices[i+1] = np.argmax(self.distance)\n",
    "            \n",
    "        #print(sef.indices)   \n",
    "        self.initial_center = dataset[self.indices]\n",
    "       \n",
    "    \n",
    "    def Calcul_Dense(self,dataset,r):\n",
    "        [length,width] = dataset.shape\n",
    "        self.dense = np.zeros((length,))\n",
    "        \n",
    "        for i in range(length):\n",
    "            decision = np.zeros((length,))\n",
    "            temp_distance = np.sum(np.square(dataset - dataset[i]),1)\n",
    "            decision[temp_distance <= r*r] = 1\n",
    "            self.dense[i] = np.sum(decision)\n",
    "            #print(self.dense[i]-1)\n",
    "            \n",
    "            \n",
    "    def Dense_Center(self,dataset,r,Dt):\n",
    "        [length, width] = dataset.shape\n",
    "        self.initial_center = np.zeros((self.n_class,width))\n",
    "        self.Calcul_Dense(dataset,r)\n",
    "        dataset = dataset[self.dense > Dt]\n",
    "        temp_matrix = self.dense[self.dense > Dt]\n",
    "        #print(temp_matrix)\n",
    "        self.indices = random.sample(range(0, length),self.n_class)\n",
    "        self.indices[0] = np.argmax(temp_matrix)\n",
    "        \n",
    "        self.initial_center[0] = dataset[self.indices[0]]\n",
    "        self.distance = np.sum(np.square(dataset - self.initial_center[0]),1)\n",
    "            \n",
    "        for i in range(self.n_class-1):\n",
    "            self.distance += np.sum(np.square(dataset - self.initial_center[i]),1)\n",
    "            indice = np.argmax(self.distance)\n",
    "            #print(np.max(self.distance))\n",
    "            #print(np.min(self.distance))\n",
    "            if indice in self.indices:\n",
    "                self.distance[indice] = 0\n",
    "                \n",
    "            self.indices[i+1] = np.argmax(self.distance)\n",
    "            \n",
    "        #print(sef.indices)   \n",
    "        self.initial_center = dataset[self.indices]\n",
    "    "
   ]
  },
  {
   "cell_type": "code",
   "execution_count": 4,
   "metadata": {},
   "outputs": [],
   "source": [
    "class Kmeans():\n",
    "    #__init__ 函数初始化K-means类，传入初始聚类中心initial_center 类数K\n",
    "    #Redistribution 函数按照最小距离准则对样本数据进行一次重新分配，并计算返回新的样本中心\n",
    "    #Clustering 函数根据新返回的样本中心与上一步样本中心的关系决定是否结束聚类过程\n",
    "    #其中iteration 定义最大迭代次数 误差为1e-6是认为样本中心点不在改变\n",
    "    def __init__(self,initial_center,k):\n",
    "        self.centers = initial_center\n",
    "        self.n_class = k\n",
    "\n",
    "        \n",
    "    def Redistribution(self,dataset):\n",
    "        [length,width] = dataset.shape\n",
    "        self.labels = np.zeros((length,))\n",
    "        centers = np.zeros((self.n_class,width))\n",
    "        \n",
    "        for i in range(length):\n",
    "            self.labels[i] = np.argmin(np.sum(np.square(np.ones((self.n_class,1)) * dataset[i,:] - self.centers),1))\n",
    "        \n",
    "        for i in range(self.n_class):\n",
    "            centers[i] = np.mean(dataset[self.labels == i],0)\n",
    "            [length,width] = dataset[self.labels == i].shape\n",
    "            \n",
    "            if length == 0:\n",
    "                centers[i] = self.centers[i]\n",
    "        \n",
    "        return centers \n",
    "    \n",
    "    def Clustering(self,dataset,iteration):\n",
    "        for i in range(iteration):\n",
    "            centers = self.Redistribution(dataset)\n",
    "            changes = np.sum(np.square(centers - self.centers))\n",
    "            #print('centers：',centers)\n",
    "            #print('self.centers: ',self.centers)\n",
    "            if changes < 1e-6 :\n",
    "                print('iteration: %d, Algorithm converge -> stop update'%(i))\n",
    "                break\n",
    "            \n",
    "            self.centers = centers\n",
    "        \n",
    "            \n",
    "            if i == iteration-1 :\n",
    "                print('Algorithm disperse -> stop clustering')\n",
    "                print('changes: ',changes)\n",
    "        "
   ]
  },
  {
   "cell_type": "code",
   "execution_count": 5,
   "metadata": {},
   "outputs": [
    {
     "data": {
      "text/plain": [
       "<Figure size 640x480 with 6 Axes>"
      ]
     },
     "metadata": {},
     "output_type": "display_data"
    }
   ],
   "source": [
    "#实验数据可视化 判断是否适用于kmeans算法\n",
    "import matplotlib.pyplot as plt\n",
    "\n",
    "def plot_features(a,b):\n",
    "    plt.scatter(iris.data[:50,a],iris.data[:50,b],c='r')\n",
    "    plt.scatter(iris.data[50:100,a],iris.data[50:100,b],c='g')\n",
    "    plt.scatter(iris.data[100:150,a],iris.data[100:150,b],c='b')\n",
    "    \n",
    "plt.subplot(321)\n",
    "plot_features(0,1)\n",
    "\n",
    "plt.subplot(322)\n",
    "plot_features(0,2)\n",
    "\n",
    "plt.subplot(323)\n",
    "plot_features(0,3)\n",
    "\n",
    "plt.subplot(324)\n",
    "plot_features(1,2)\n",
    "\n",
    "plt.subplot(325)\n",
    "plot_features(1,3)\n",
    "\n",
    "plt.subplot(326)\n",
    "plot_features(2,3)\n",
    "\n",
    "plt.show()"
   ]
  },
  {
   "cell_type": "code",
   "execution_count": 22,
   "metadata": {},
   "outputs": [],
   "source": [
    "#定义重要数据\n",
    "# k 类数\n",
    "# r 用于密度法的半径\n",
    "# Dt 用于密度法的阈值\n",
    "# iteration kmeans算法的最大迭代次数\n",
    "k = 2\n",
    "r = 0.4\n",
    "Dt = 3\n",
    "iteration = 100"
   ]
  },
  {
   "cell_type": "code",
   "execution_count": 25,
   "metadata": {},
   "outputs": [
    {
     "name": "stdout",
     "output_type": "stream",
     "text": [
      "initial_centers indices:  [29, 55]\n",
      "initial_centers: \n",
      " [[5.6 2.7 4.2 1.3]\n",
      " [6.8 3.2 5.9 2.3]]\n"
     ]
    }
   ],
   "source": [
    "#初始化数据中心\n",
    "#dataset = iris.data[0:100,:]\n",
    "#dataset = np.vstack((iris.data[0:50,:],iris.data[100:150,:]))\n",
    "dataset = iris.data[50:150,:]\n",
    "#dataset = iris.data\n",
    "[length,width] = dataset.shape\n",
    "\n",
    "center = Initial_Center(k)\n",
    "#center.Random_Center(iris.data)\n",
    "#center.FarDistance_Center(dataset)\n",
    "center.Dense_Center(dataset,r,Dt)\n",
    "print('initial_centers indices: ',center.indices)\n",
    "print('initial_centers: \\n',center.initial_center)\n",
    "#Centers = np.zeros((k,width))\n",
    "#center.Empirical_Center(Centers)"
   ]
  },
  {
   "cell_type": "code",
   "execution_count": 26,
   "metadata": {},
   "outputs": [
    {
     "name": "stdout",
     "output_type": "stream",
     "text": [
      "iteration: 2, Algorithm converge -> stop update\n",
      "centers: \n",
      " [[5.88360656 2.74098361 4.38852459 1.43442623]\n",
      " [6.85384615 3.07692308 5.71538462 2.05384615]]\n",
      "labels: \n",
      " [[1. 0. 1. 0. 0. 0. 0. 0. 0. 0. 0. 0. 0. 0. 0. 0. 0. 0. 0. 0. 0. 0. 0. 0.\n",
      "  0. 0. 0. 1. 0. 0. 0. 0. 0. 0. 0. 0. 0. 0. 0. 0. 0. 0. 0. 0. 0. 0. 0. 0.\n",
      "  0. 0.]\n",
      " [1. 0. 1. 1. 1. 1. 0. 1. 1. 1. 1. 1. 1. 0. 0. 1. 1. 1. 1. 0. 1. 0. 1. 0.\n",
      "  1. 1. 0. 0. 1. 1. 1. 1. 1. 0. 1. 1. 1. 1. 0. 1. 1. 1. 0. 1. 1. 1. 0. 1.\n",
      "  1. 0.]]\n"
     ]
    }
   ],
   "source": [
    "#kmeans算法对数据进行分类\n",
    "kmeans1 = Kmeans(center.initial_center,k)\n",
    "kmeans1.Clustering(dataset,iteration)\n",
    "print('centers: \\n',kmeans1.centers)\n",
    "print('labels: \\n',kmeans1.labels.reshape(2,50))"
   ]
  },
  {
   "cell_type": "code",
   "execution_count": null,
   "metadata": {},
   "outputs": [],
   "source": []
  },
  {
   "cell_type": "code",
   "execution_count": null,
   "metadata": {},
   "outputs": [],
   "source": []
  }
 ],
 "metadata": {
  "kernelspec": {
   "display_name": "Python 3",
   "language": "python",
   "name": "python3"
  },
  "language_info": {
   "codemirror_mode": {
    "name": "ipython",
    "version": 3
   },
   "file_extension": ".py",
   "mimetype": "text/x-python",
   "name": "python",
   "nbconvert_exporter": "python",
   "pygments_lexer": "ipython3",
   "version": "3.7.4"
  }
 },
 "nbformat": 4,
 "nbformat_minor": 2
}
